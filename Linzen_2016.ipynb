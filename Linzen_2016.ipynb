{
 "cells": [
  {
   "cell_type": "code",
   "execution_count": 2,
   "metadata": {},
   "outputs": [],
   "source": [
    "import transformers\n",
    "from transformers import pipeline, AutoTokenizer, AutoModelForMaskedLM\n",
    "import numpy as np\n",
    "import torch\n",
    "from pprint import pprint\n",
    "import logging\n",
    "import re\n",
    "\n",
    "transformers.logging.set_verbosity_error()\n",
    "\n",
    "def print_header(header):\n",
    "    print(\"\\n\\n----------------------------------------------------------\")\n",
    "    print(header)\n",
    "    print(\"----------------------------------------------------------\")\n",
    "\n",
    "BERT = 'bert-large-uncased-whole-word-masking'\n",
    "\n"
   ]
  },
  {
   "cell_type": "code",
   "execution_count": 10,
   "metadata": {},
   "outputs": [],
   "source": [
    "def setup(model):\n",
    "    tokenizer = AutoTokenizer.from_pretrained(model)\n",
    "    model = AutoModelForMaskedLM.from_pretrained(model)\n",
    "    bert = pipeline(\"fill-mask\", model=model, tokenizer=tokenizer)\n",
    "    mask = bert.tokenizer.mask_token\n",
    "    return bert, mask\n",
    "\n",
    "def runBERT(bert, sentences, fillers):\n",
    "    filler_results = {}\n",
    "    top_preds = {}\n",
    "    for sentence in sentences:\n",
    "        filler_results[sentence] = {}\n",
    "        for filler in fillers:\n",
    "            filler_results[sentence][filler] = bert(sentence, targets=[filler])[0][\"score\"]\n",
    "    return filler_results"
   ]
  },
  {
   "cell_type": "code",
   "execution_count": 13,
   "metadata": {},
   "outputs": [
    {
     "name": "stdout",
     "output_type": "stream",
     "text": [
      "\n",
      "\n",
      "----------------------------------------------------------\n",
      "Filler Results\n",
      "----------------------------------------------------------\n",
      "{'The key [MASK] on the table': {'is': 0.39408349990844727,\n",
      "                                 'are': 0.0034097961615771055},\n",
      " 'They keys [MASK] on the table': {'is': 5.7286724768346176e-05,\n",
      "                                   'are': 0.32688844203948975},\n",
      " 'The key to the cabinets [MASK] on the table': {'is': 0.2598051428794861,\n",
      "                                                 'are': 0.005281456280499697},\n",
      " 'The keys to the cabinet [MASK] on the table': {'is': 0.0019026300869882107,\n",
      "                                                 'are': 0.682071328163147},\n",
      " 'Yet the ratio of men who survive to the women and children who survive [MASK] not clear in this story': {'is': 0.983444094657898,\n",
      "                                                                                                           'are': 0.00609173160046339},\n",
      " 'The roses in the vase by the door [MASK] red': {'is': 0.0015028209891170263,\n",
      "                                                  'are': 0.5649319887161255}}\n"
     ]
    }
   ],
   "source": [
    "sentences = [\n",
    "    'The key [MASK] on the table', \n",
    "    'They keys [MASK] on the table', \n",
    "    'The key to the cabinets [MASK] on the table', \n",
    "    'The keys to the cabinet [MASK] on the table',\n",
    "    'Yet the ratio of men who survive to the women and children who survive [MASK] not clear in this story',\n",
    "    'The roses in the vase by the door [MASK] red']\n",
    "fillers = ['is', 'are']\n",
    "bert, mask = setup(BERT)\n",
    "filler_results = runBERT(bert, sentences, fillers)\n",
    "\n",
    "print_header('Filler Results')\n",
    "pprint(filler_results, sort_dicts=False)"
   ]
  }
 ],
 "metadata": {
  "kernelspec": {
   "display_name": "Python 3.8.8 64-bit ('691DD': conda)",
   "name": "python388jvsc74a57bd00731369e360385e76366cf827f604697773b9d9d66be5c37ba6a191781d1c178"
  },
  "language_info": {
   "codemirror_mode": {
    "name": "ipython",
    "version": 3
   },
   "file_extension": ".py",
   "mimetype": "text/x-python",
   "name": "python",
   "nbconvert_exporter": "python",
   "pygments_lexer": "ipython3",
   "version": "3.8.8"
  },
  "orig_nbformat": 2
 },
 "nbformat": 4,
 "nbformat_minor": 2
}